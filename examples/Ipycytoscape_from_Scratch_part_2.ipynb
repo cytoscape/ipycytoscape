{
 "cells": [
  {
   "cell_type": "markdown",
   "metadata": {},
   "source": [
    "# ipycytoscape from scratch. Part 2.\n",
    "### The Train rail net grows up."
   ]
  },
  {
   "cell_type": "markdown",
   "metadata": {},
   "source": [
    "### Objective\n",
    "This jupyter is the continuation of part one:\n",
    "Ipycytoscape from Scratch.ipynb\n",
    "\n",
    "The goal of this article is to learn graphs from scratch using ipycytoscape. In order to get into graphs I had made the point that it is better starting by visualizing because an image is worth a million words and also a million equations.\n",
    "A small graph was built in the first part, and we made little by little  some modifications to the graph showing how modify the graph using ipycytoscape.\n",
    "\n",
    "### For whom is this article/notebook? What do you need to know?\n",
    "You code in python but somehow you had never had anything to do with graphs.\n",
    "You have read the first part notebook.\n",
    "You are familiar with dictionaries and JSON structures.\n",
    "You have some knowledge of pandas. (If you don't have, you might skip the last part).\n",
    "\n",
    "### Our project\n",
    "You have to imagine that you are a coder that is ultimately in charge of creating a GUI that shows the German rail net in an interactive way showing different kinds of information for the operators to be able to take decisions.\n",
    "\n",
    "### Some notes:\n",
    "As a coder after having read the first article you are at a point where you might be facing the following situations:\n",
    "- A friend told you that visualizing graphs in notebooks is not the way to go: I assure you that you will be able to tell him \"voilà\". (\"here you are\" in French)\n",
    "- Another friend might have told you that in order to really work in python with graphs you better start digging into Networkx. Well you might tell him that a pic is worth a thousand words, and for what it takes, a pic is worth a thousand equations. You will be able to jump from visualizing with ipycytoscape to Networkx, better than the other way around, that is my point here.\n",
    "\n",
    "### That said lets see where we stand and move forward.   \n",
    "We have built a 'mini' German rail net with rail connections between 6 cities. BER (Berlin), MUN(Munich), HAM (Hamburg), FRA (Frankfurt) and LEP(LEIPZIG). That resulted in a graph.\n",
    "We added also some information to the graphs.\n",
    "Note: I will tend to paste here all the code AND DATA necessary in order to avoid you to have to pick it up in GitHub or read it from disc.\n",
    "\n",
    "What comes next is the situation we had in part one.\n",
    "Lets go"
   ]
  },
  {
   "cell_type": "code",
   "execution_count": 1,
   "metadata": {},
   "outputs": [
    {
     "data": {
      "application/vnd.jupyter.widget-view+json": {
       "model_id": "574c57c446c344be89b6a7a654b1cf2d",
       "version_major": 2,
       "version_minor": 0
      },
      "text/plain": [
       "CytoscapeWidget(cytoscape_layout={'name': 'cola'}, cytoscape_style=[{'selector': 'node', 'style': {'font-famil…"
      ]
     },
     "metadata": {},
     "output_type": "display_data"
    }
   ],
   "source": [
    "import ipycytoscape\n",
    "import json\n",
    "import ipywidgets\n",
    "# I paste here allthe data in order to allow you to copy and paste it without loading data from files.\n",
    "railnet= '''{\n",
    "    \"nodes\": [\n",
    "        {\"data\": { \"id\": \"BER\", \"label\":\"HBf BER\", \"classes\":\"east\"}},\n",
    "        {\"data\": { \"id\": \"MUN\", \"label\":\"HBf MUN\", \"classes\":\"west\"}},\n",
    "        {\"data\": { \"id\": \"FRA\", \"label\":\"HBf FRA\", \"classes\":\"west\"}},\n",
    "        {\"data\": { \"id\": \"HAM\", \"label\":\"HBf HAM\", \"classes\":\"west\"}},\n",
    "        {\"data\": { \"id\": \"LEP\", \"label\":\"HBf LEP\", \"classes\":\"east\"}}\n",
    "        ],\n",
    "    \"edges\": [\n",
    "        {\"data\": { \"id\": \"line1\", \"source\": \"BER\", \"target\": \"MUN\",\"label\":\"200km/h\"}},\n",
    "        {\"data\": { \"id\": \"line2\", \"source\": \"MUN\", \"target\": \"FRA\",\"label\":\"200km/h\"}},\n",
    "        {\"data\": { \"id\": \"line3\", \"source\": \"FRA\", \"target\": \"BER\",\"label\":\"250km/h\" }},\n",
    "        {\"data\": { \"id\": \"line4\", \"source\": \"BER\", \"target\": \"HAM\",\"label\":\"300km/h\" }},\n",
    "        {\"data\": { \"id\": \"line5\", \"source\": \"BER\", \"target\": \"LEP\",\"label\":\"300km/h\" }}\n",
    "        \n",
    "    ]\n",
    "  }'''\n",
    "\n",
    "train_style = [\n",
    "    {'selector': 'node','style': {\n",
    "        'font-family': 'arial',\n",
    "        'font-size': '10px',\n",
    "        'label': 'data(label)',}},\n",
    "    \n",
    "    {'selector': 'node[classes=\"east\"]','style': {\n",
    "        'background-color': 'yellow'}},\n",
    "    \n",
    "     {'selector': 'node[classes=\"west\"]','style': {\n",
    "        'background-color': 'blue'}},\n",
    "    \n",
    "    \n",
    "    {'selector': 'node[id = \"BER\"]','style': {\n",
    "        'font-family': 'arial',\n",
    "        'font-size': '10px',\n",
    "        'label': 'data(label)',\n",
    "        'background-color': 'green'}},\n",
    "    \n",
    "    {'selector': 'edge[id = \"line1\"]','style': {\n",
    "        'font-family': 'arial',\n",
    "        'font-size': '10px',\n",
    "        'label': 'data(label)'}},\n",
    "    \n",
    "    {'selector': 'edge[id = \"line2\"]','style': {\n",
    "        'font-family': 'arial',\n",
    "        'font-size': '10px',\n",
    "        'label': 'data(label)'}},\n",
    "    \n",
    "    {'selector': 'edge[id = \"line3\"]','style': {\n",
    "        'font-family': 'arial',\n",
    "        'font-size': '10px',\n",
    "        'label': 'data(label)'}},\n",
    "    \n",
    "    {'selector': 'edge[id = \"line4\"]','style': {\n",
    "        'font-family': 'arial',\n",
    "        'font-size': '10px',\n",
    "        'label': 'data(label)'}},\n",
    "    \n",
    "    {'selector': 'edge[id = \"line5\"]','style': {\n",
    "        'font-family': 'arial',\n",
    "        'font-size': '10px',\n",
    "        'label': 'data(label)'}}\n",
    "    \n",
    "    ]\n",
    "railnetJSON = json.loads(railnet)\n",
    "ipycytoscape_obj = ipycytoscape.CytoscapeWidget()\n",
    "ipycytoscape_obj.graph.add_graph_from_json(railnetJSON) \n",
    "ipycytoscape_obj.set_style(train_style)\n",
    "ipycytoscape_obj"
   ]
  },
  {
   "cell_type": "markdown",
   "metadata": {},
   "source": [
    "## Adding nodes and edges.\n",
    "\n",
    "Nuremberg is a city in former West Germany. A new station was built in Nuremberg (NUR) and it has to be added to the train rail net. Nuremberg's station is joined to the net in Leipzig and Frankfurt. And the connections between NUR and the net is done only with regional rail connections. How do we add that to the net?\n",
    "A new node and a new edge have to be added. In this case I don't built a new graph from scratch in order to show that adding the nodes and edges will happened in the already visualized graph when you run the code.\n",
    "Be aware that the rail station in Nuremberg is still being built, so we want to reflect that on the graph. The desired label is \"HBf NUR in construction\""
   ]
  },
  {
   "cell_type": "code",
   "execution_count": 2,
   "metadata": {},
   "outputs": [
    {
     "data": {
      "application/vnd.jupyter.widget-view+json": {
       "model_id": "574c57c446c344be89b6a7a654b1cf2d",
       "version_major": 2,
       "version_minor": 0
      },
      "text/plain": [
       "CytoscapeWidget(cytoscape_layout={'name': 'cola'}, cytoscape_style=[{'selector': 'node', 'style': {'font-famil…"
      ]
     },
     "metadata": {},
     "output_type": "display_data"
    }
   ],
   "source": [
    "station_NUR = ipycytoscape.Node()\n",
    "station_NUR.data['id'] = \"NUR\"\n",
    "station_NUR.data['label'] = \"HBf NUR in construction\"\n",
    "station_NUR.data['classes'] = \"west\"\n",
    "\n",
    "ipycytoscape_obj.graph.add_node(station_NUR)\n",
    "ipycytoscape_obj"
   ]
  },
  {
   "cell_type": "markdown",
   "metadata": {},
   "source": [
    "Ups! The station is built but the rail connections are missing.   \n",
    "Let's add the rail connections (edges).   \n",
    "The info that we got is that there will be two connections built as follows:\n",
    "- connection NUR-LEP will be a regional train running only at 150km/h.\n",
    "- connection NUR-FRA will be a regional train running only at 150km/h."
   ]
  },
  {
   "cell_type": "code",
   "execution_count": 3,
   "metadata": {},
   "outputs": [
    {
     "data": {
      "application/vnd.jupyter.widget-view+json": {
       "model_id": "574c57c446c344be89b6a7a654b1cf2d",
       "version_major": 2,
       "version_minor": 0
      },
      "text/plain": [
       "CytoscapeWidget(cytoscape_layout={'name': 'cola'}, cytoscape_style=[{'selector': 'node', 'style': {'font-famil…"
      ]
     },
     "metadata": {},
     "output_type": "display_data"
    }
   ],
   "source": [
    "# rail connection NUR-LEP\n",
    "new_edge1 = ipycytoscape.Edge()\n",
    "new_edge1.data['id'] = \"line6\"\n",
    "new_edge1.data['source'] = \"NUR\"\n",
    "new_edge1.data['target'] = \"LEP\"\n",
    "new_edge1.data['label'] = \"150km/h\"\n",
    "\n",
    "# rail connection NUR-FRA\n",
    "new_edge2 = ipycytoscape.Edge()\n",
    "new_edge2.data['id'] = \"line7\"\n",
    "new_edge2.data['source'] = \"NUR\"\n",
    "new_edge2.data['target'] = \"FRA\"\n",
    "new_edge2.data['label'] = \"150km/h\"\n",
    "\n",
    "ipycytoscape_obj.graph.add_edges([new_edge1,new_edge2])\n",
    "ipycytoscape_obj"
   ]
  },
  {
   "cell_type": "markdown",
   "metadata": {},
   "source": [
    "You see that already a little bit of magic happens. Since NUR is in the west (class=\"west\") it got automatically the blue colour.   \n",
    "Mmmmm seems that there is still something missing. We don't see the speed of the new regional trains added to the net."
   ]
  },
  {
   "cell_type": "markdown",
   "metadata": {},
   "source": [
    "## Style of new edges\n",
    "\n",
    "my_style was defined as a list with all the requirements for visualizing the graph.\n",
    "Let's add the new necessary styles."
   ]
  },
  {
   "cell_type": "code",
   "execution_count": 4,
   "metadata": {},
   "outputs": [
    {
     "data": {
      "application/vnd.jupyter.widget-view+json": {
       "model_id": "470eb716593146109321065aa432a2c8",
       "version_major": 2,
       "version_minor": 0
      },
      "text/plain": [
       "CytoscapeWidget(cytoscape_layout={'name': 'cola'}, cytoscape_style=[{'selector': 'node', 'style': {'font-famil…"
      ]
     },
     "metadata": {},
     "output_type": "display_data"
    }
   ],
   "source": [
    "train_style.append({'selector': 'edge[id = \"line6\"]',\n",
    "                 'style': {\n",
    "                     'font-family': 'arial',\n",
    "                     'font-size': '10px',\n",
    "                     'label': 'data(label)'}})\n",
    "train_style.append({'selector': 'edge[id = \"line7\"]',\n",
    "                 'style': {\n",
    "                     'font-family': 'arial',\n",
    "                     'font-size': '10px',\n",
    "                     'label': 'data(label)'}})\n",
    "ipycytoscape_obj2 = ipycytoscape.CytoscapeWidget()\n",
    "ipycytoscape_obj2.graph.add_graph_from_json(railnetJSON)\n",
    "ipycytoscape_obj2.graph.add_node(station_NUR)\n",
    "ipycytoscape_obj2.graph.add_edges([new_edge1,new_edge2])\n",
    "ipycytoscape_obj2.set_style(train_style)\n",
    "ipycytoscape_obj2"
   ]
  },
  {
   "cell_type": "markdown",
   "metadata": {},
   "source": [
    "NUR station is not anymore in construction.\n",
    "So I want to change the label of the NUR station from Hbf NUR in construction by simply \"Hbf NUR\".\n"
   ]
  },
  {
   "cell_type": "code",
   "execution_count": 5,
   "metadata": {},
   "outputs": [
    {
     "data": {
      "application/vnd.jupyter.widget-view+json": {
       "model_id": "470eb716593146109321065aa432a2c8",
       "version_major": 2,
       "version_minor": 0
      },
      "text/plain": [
       "CytoscapeWidget(cytoscape_layout={'name': 'cola'}, cytoscape_style=[{'selector': 'node', 'style': {'font-famil…"
      ]
     },
     "metadata": {},
     "output_type": "display_data"
    }
   ],
   "source": [
    "ipycytoscape_obj2.graph.nodes\n",
    "for node in ipycytoscape_obj2.graph.nodes:\n",
    "    if node.data['id'] == 'NUR':\n",
    "        node.data['label'] = 'Hbf NUR'\n",
    "ipycytoscape_obj2"
   ]
  },
  {
   "cell_type": "markdown",
   "metadata": {},
   "source": [
    "### Adding more nodes, classes and edges\n",
    "\n",
    "The EU decides to promote a transnational European Union rail connection between mayor cities.  New train stations in France, Italy and Spain have to be added to the net.\n",
    "\n",
    "So far it is planned a 400km/h connection between BER, FRA in Germany, and from FRA to Paris (PAR) to Lyon  (LYO)  and from Lyon to Barcelona (BAR) and to Milan (MIL).  \n",
    "\n",
    "Besides, We want to visually separate the German train stations from the non-German ones.   \n",
    "\n",
    "So we will add the class \"Germany\" to all the German stations, and the new stations added will have the class EU."
   ]
  },
  {
   "cell_type": "code",
   "execution_count": 6,
   "metadata": {},
   "outputs": [],
   "source": [
    "EU_stations = ['PAR','MIL','BAR','LYO']\n",
    "new_EU_stations = []\n",
    "for station in EU_stations:\n",
    "    new_station = ipycytoscape.Node()\n",
    "    new_station.data['id'] = station\n",
    "    new_station.data['label'] = f\"CS {station}\" # CS = Central Station\n",
    "    new_station.data['classes'] = \"EU\"\n",
    "    new_EU_stations.append(new_station)\n",
    "\n",
    "connections = [('BER','PAR'),('PAR','LYO'),('LYO','BAR'),('LYO','MIL')]\n",
    "lines = [8,9,10,11]\n",
    "new_EU_rails = []\n",
    "for i,connection in enumerate(connections):\n",
    "    new_edge = ipycytoscape.Edge()\n",
    "    new_edge.data['id'] = f\"line{lines[i]}\"\n",
    "    new_edge.data['source'] = connection[0]\n",
    "    new_edge.data['target'] = connection[1]\n",
    "    new_edge.data['classes'] = \"EU\"\n",
    "    new_edge.data['label'] = \"400km/h\"\n",
    "    new_EU_rails.append(new_edge)"
   ]
  },
  {
   "cell_type": "markdown",
   "metadata": {},
   "source": [
    "We wanted to differentiate the German from the rest of the EU stations. Let's give an orange colour to all the non-German stations.   \n",
    "Since we added the class \"EU\" to the new added stations we can add a style to our list of styles as follows.\n",
    "Let's check out the new stations added as nodes. And finally build a new graph rail net."
   ]
  },
  {
   "cell_type": "code",
   "execution_count": 7,
   "metadata": {},
   "outputs": [
    {
     "data": {
      "application/vnd.jupyter.widget-view+json": {
       "model_id": "9e07bcce83e54258ad6cb52aaf782091",
       "version_major": 2,
       "version_minor": 0
      },
      "text/plain": [
       "CytoscapeWidget(cytoscape_layout={'name': 'cola'}, cytoscape_style=[{'selector': 'node', 'style': {'font-famil…"
      ]
     },
     "metadata": {},
     "output_type": "display_data"
    }
   ],
   "source": [
    "train_style.append({'selector': 'node[classes=\"EU\"]',\n",
    "                    'style': {'background-color': 'orange'}})\n",
    "train_style.append({'selector': 'edge[classes=\"EU\"]',\n",
    "                    'style': {'font-family': 'arial',\n",
    "                     'font-size': '10px',\n",
    "                     'label': 'data(label)'}})\n",
    "ipycytoscape_obj3 = ipycytoscape.CytoscapeWidget()\n",
    "ipycytoscape_obj3.graph.add_graph_from_json(railnetJSON)\n",
    "ipycytoscape_obj3.graph.add_node(station_NUR)\n",
    "ipycytoscape_obj3.graph.add_edges([new_edge1,new_edge2])\n",
    "ipycytoscape_obj3.graph.add_nodes(new_EU_stations)\n",
    "ipycytoscape_obj3.graph.add_edges(new_EU_rails)\n",
    "ipycytoscape_obj3.set_style(train_style)\n",
    "ipycytoscape_obj3"
   ]
  },
  {
   "cell_type": "markdown",
   "metadata": {},
   "source": [
    "Btw, you might be thinking that the stations (nodes) are not really plotted according to the real geographical location. You can also modify location of nodes. But that is at the moment not part of the scope of this notebook.\n",
    "You see that we did not add many nodes, and we are dealing with a tiny graph and our code got already quite verbose for changing here and there properties and attributes.   \n",
    "Imagine you have to work with the real German rail system. Thousands of stations and thousands of rail connections.\n",
    "Only with these few nodes you might have had this feeling of being lost, imagine with some thousand of those!!    \n",
    "Hence of course the data would be separated from the code in a real project.\n",
    "\n",
    "### Conclusion\n",
    "We have learn to make more modifications to the ipycytoscape graph. In coming notebooks/articles the European rail net will go on growing."
   ]
  }
 ],
 "metadata": {
  "kernelspec": {
   "display_name": "Python 3",
   "language": "python",
   "name": "python3"
  },
  "language_info": {
   "codemirror_mode": {
    "name": "ipython",
    "version": 3
   },
   "file_extension": ".py",
   "mimetype": "text/x-python",
   "name": "python",
   "nbconvert_exporter": "python",
   "pygments_lexer": "ipython3",
   "version": "3.8.3"
  }
 },
 "nbformat": 4,
 "nbformat_minor": 4
}
